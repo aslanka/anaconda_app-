{
 "cells": [
  {
   "cell_type": "markdown",
   "id": "373f92fb-5c02-4221-90a7-03e45d060225",
   "metadata": {},
   "source": [
    "# Public Safety Index Dashboard"
   ]
  },
  {
   "cell_type": "markdown",
   "id": "a321a3a0-ac89-4cc9-aaa3-c4a03729594b",
   "metadata": {},
   "source": [
    "## Project Description\n"
   ]
  },
  {
   "cell_type": "markdown",
   "id": "7889405c-f91e-4f9c-a5bc-5346bb83d857",
   "metadata": {},
   "source": [
    "This project aims to create an interactive, data-driven web application using Panel and Anaconda. The application visualizes an index based on a variety of factors like crime rates, fire incidents, and building safety ratings, among others."
   ]
  },
  {
   "cell_type": "markdown",
   "id": "5b96769d-723d-4300-907e-05410bd27212",
   "metadata": {},
   "source": [
    "This Public Safety Index will serve as a composite measure to understand the safety of different neighborhoods or cities, based on the available data.\n"
   ]
  },
  {
   "cell_type": "markdown",
   "id": "60b9219e-97b2-4f4e-b427-72222099142d",
   "metadata": {
    "tags": []
   },
   "source": [
    "## Objectives\n",
    "\n",
    "The primary goals of this project are:\n",
    "\n",
    "1. To collect, clean, and analyze public safety-related data from reliable sources.\n",
    "2. To compute a composite Public Safety Index based on the analyzed data.\n",
    "3. To visualize the data and the Index in an intuitive, interactive web application.\n",
    "\n"
   ]
  },
  {
   "cell_type": "markdown",
   "id": "e0bb056d-519c-4e9b-a772-1ded41b7d552",
   "metadata": {
    "tags": []
   },
   "source": [
    "# Libraries\n"
   ]
  },
  {
   "cell_type": "code",
   "execution_count": 5,
   "id": "fa92b04b-7931-4147-b2f4-ef789f4370c9",
   "metadata": {},
   "outputs": [],
   "source": [
    "import pandas as pd\n",
    "import panel as pn\n",
    "import hvplot.pandas \n",
    "import requests\n",
    "import matplotlib.pyplot as plt\n"
   ]
  },
  {
   "cell_type": "markdown",
   "id": "95962747-783c-4e1c-95bf-b3f7ffc144c7",
   "metadata": {},
   "source": [
    "## Data Sources\n",
    "\n",
    "The data for this project is gathered from the following sources:\n",
    "\n",
    "- **Source 1**: Description of the data from source 1.\n",
    "- **Source 2**: Description of the data from source 2.\n",
    "- **Source 3**: Description of the data from source 3.\n",
    "\n",
    "We will be using Python, along with libraries such as pandas for data manipulation, requests for data gathering, hvplot and matplotlib for data visualization, and Panel for creating the interactive dashboard.\n"
   ]
  },
  {
   "cell_type": "code",
   "execution_count": null,
   "id": "e6c24b78-322f-45c9-9b48-594c372a1dca",
   "metadata": {},
   "outputs": [],
   "source": []
  }
 ],
 "metadata": {
  "kernelspec": {
   "display_name": "anaconda-panel-2023.05-py310",
   "language": "python",
   "name": "conda-env-anaconda-panel-2023.05-py310-py"
  },
  "language_info": {
   "codemirror_mode": {
    "name": "ipython",
    "version": 3
   },
   "file_extension": ".py",
   "mimetype": "text/x-python",
   "name": "python",
   "nbconvert_exporter": "python",
   "pygments_lexer": "ipython3",
   "version": "3.11.3"
  }
 },
 "nbformat": 4,
 "nbformat_minor": 5
}
