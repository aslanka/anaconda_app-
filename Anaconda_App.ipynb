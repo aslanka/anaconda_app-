{
 "cells": [
  {
   "cell_type": "code",
   "execution_count": null,
   "id": "a859be78",
   "metadata": {},
   "outputs": [],
   "source": [
    "relocationPrompt = input(\"In atleast 250 words, Describe whats most important to you when considering a new city to move to? \")"
   ]
  },
  {
   "cell_type": "code",
   "execution_count": 2,
   "id": "89e608d4",
   "metadata": {},
   "outputs": [
    {
     "name": "stdout",
     "output_type": "stream",
     "text": [
      "{'Job opportunities': {'Type': ['Tech', 'Finance', 'Healthcare', 'Education'], 'Location': ['Urban', 'Suburban', 'Rural']}, 'Cost of living': ['High', 'Medium', 'Low'], 'Quality of life': ['High', 'Medium', 'Low'], 'Safety and Security': ['low crime rates', 'friendly neighboorhoods'], 'Climate and Environment': {'Temperature': ['hot', 'cold', 'raining', 'snowy']}, 'Transportation and Infrastructure': {'Traffic': ['Low', 'not a factor'], 'Highway Importance': ['High', 'Low'], 'Crash': ['Low', 'not a factor']}, 'Healthcare and Wellness': ['Afforadable'], 'Diversity and Inclusion': {'Activity': ['Religion', 'Culture specific food/grocery']}, 'Family-Friendly': ['Family-friendly neighborhoods', 'parks', 'schools', 'amenities']}\n"
     ]
    }
   ],
   "source": [
    "factors = {\n",
    "    'Job opportunities': {\n",
    "        'Type': ['Tech', 'Finance', 'Healthcare', 'Education'],\n",
    "        'Location': ['Urban', 'Suburban', 'Rural'],\n",
    "    },\n",
    "    'Cost of living':{\n",
    "        'Price': ['Low', 'Not a factor']\n",
    "    \n",
    "    },\n",
    "    'Quality of life': {\n",
    "        'Quality': ['High', 'Not a factor']\n",
    "    \n",
    "    },\n",
    "    'Safety and Security':{\n",
    "        'Crime' : ['low crime rates', 'friendly neighboorhoods']\n",
    "    } ,\n",
    "    \"Climate and Environment\":{\n",
    "        'Temperature' : ['hot', 'cold','raining', 'snowy'],\n",
    "    },\n",
    "    \"Transportation and Infrastructure\": {\n",
    "        'Traffic': ['Low', 'not a factor'],\n",
    "        'Highway Importance': ['High', 'Low'],\n",
    "        'Crash': ['Low', 'not a factor']\n",
    "    },\n",
    "      \"Healthcare and Wellness\": {\n",
    "        'price':  ['Afforadable']\n",
    "      },\n",
    "     \"Diversity and Inclusion\": {\n",
    "         'Activity': ['Religion', 'Culture specific food/grocery']\n",
    "     },\n",
    "     \"Family-Friendly\": ['Family-friendly neighborhoods', 'parks', 'schools', 'amenities']\n",
    "    \n",
    "}\n",
    "print(factors)"
   ]
  },
  {
   "cell_type": "code",
   "execution_count": null,
   "id": "9de36471",
   "metadata": {},
   "outputs": [],
   "source": [
    "class UserProfile"
   ]
  }
 ],
 "metadata": {
  "kernelspec": {
   "display_name": "Python 3 (ipykernel)",
   "language": "python",
   "name": "python3"
  },
  "language_info": {
   "codemirror_mode": {
    "name": "ipython",
    "version": 3
   },
   "file_extension": ".py",
   "mimetype": "text/x-python",
   "name": "python",
   "nbconvert_exporter": "python",
   "pygments_lexer": "ipython3",
   "version": "3.10.7"
  }
 },
 "nbformat": 4,
 "nbformat_minor": 5
}
