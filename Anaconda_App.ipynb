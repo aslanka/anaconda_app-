{
 "cells": [
  {
   "cell_type": "code",
   "execution_count": null,
   "id": "a859be78",
   "metadata": {},
   "outputs": [],
   "source": [
    "relocationPrompt = input(\"In atleast 250 words, Describe whats most important to you when considering a new city to move to? \")"
   ]
  },
  {
   "cell_type": "code",
   "execution_count": 1,
   "id": "89e608d4",
   "metadata": {},
   "outputs": [
    {
     "ename": "SyntaxError",
     "evalue": "invalid syntax. Perhaps you forgot a comma? (3135816453.py, line 2)",
     "output_type": "error",
     "traceback": [
      "\u001b[0;36m  Cell \u001b[0;32mIn[1], line 2\u001b[0;36m\u001b[0m\n\u001b[0;31m    \"Cost of Living\": [Affordability, housing costs, transportation expenses, cost of living],\u001b[0m\n\u001b[0m                                      ^\u001b[0m\n\u001b[0;31mSyntaxError\u001b[0m\u001b[0;31m:\u001b[0m invalid syntax. Perhaps you forgot a comma?\n"
     ]
    }
   ],
   "source": [
    "categories = {\n",
    "    \"Cost of Living\": ['Affordability', 'housing costs', 'transportation expenses', 'cost of living'],\n",
    "    \"Career Opportunities\": ['Job prospects', 'career growth', 'industry availability'],\n",
    "    \"Education\": ['Quality of schools', 'universities', 'educational opportunities'],\n",
    "    \"Lifestyle and Entertainment\": ['Recreational activities, cultural events, dining options, nightlife],\n",
    "    \"Safety and Security\": [Low crime rates, secure environment, emergency services],\n",
    "    \"Climate and Environment\": [Weather conditions, natural surroundings, outdoor activities],\n",
    "    \"Transportation and Infrastructure\": [Public transportation systems, roads, infrastructure],\n",
    "    \"Healthcare and Wellness\": [Quality healthcare facilities, hospitals, clinics, wellness services],\n",
    "    \"Diversity and Inclusion\": [Diverse population, inclusive communities, welcoming environment],\n",
    "    \"Family-Friendly\": [Family-friendly neighborhoods, parks, schools, amenities]\n",
    "}\n",
    "\n",
    "print(categories)"
   ]
  },
  {
   "cell_type": "code",
   "execution_count": null,
   "id": "3fddfc23",
   "metadata": {},
   "outputs": [],
   "source": []
  }
 ],
 "metadata": {
  "kernelspec": {
   "display_name": "Python 3 (ipykernel)",
   "language": "python",
   "name": "python3"
  },
  "language_info": {
   "codemirror_mode": {
    "name": "ipython",
    "version": 3
   },
   "file_extension": ".py",
   "mimetype": "text/x-python",
   "name": "python",
   "nbconvert_exporter": "python",
   "pygments_lexer": "ipython3",
   "version": "3.10.7"
  }
 },
 "nbformat": 4,
 "nbformat_minor": 5
}
