{
 "cells": [
  {
   "cell_type": "code",
   "execution_count": 2,
   "metadata": {},
   "outputs": [
    {
     "name": "stderr",
     "output_type": "stream",
     "text": [
      "2023-06-15 13:46:43.363015: I tensorflow/core/platform/cpu_feature_guard.cc:193] This TensorFlow binary is optimized with oneAPI Deep Neural Network Library (oneDNN) to use the following CPU instructions in performance-critical operations:  AVX2 FMA\n",
      "To enable them in other operations, rebuild TensorFlow with the appropriate compiler flags.\n"
     ]
    }
   ],
   "source": [
    "import spacy\n",
    "\n"
   ]
  },
  {
   "cell_type": "code",
   "execution_count": 5,
   "metadata": {},
   "outputs": [],
   "source": [
    "nlp = spacy.load('en_core_web_md')  # Make sure to have the 'en_core_web_md' model installed"
   ]
  },
  {
   "cell_type": "code",
   "execution_count": 6,
   "metadata": {},
   "outputs": [
    {
     "name": "stdout",
     "output_type": "stream",
     "text": [
      "Job opportunities: 0.8270591385834603\n",
      "Cost of Living: 0.8436666820762551\n",
      "Safety and Security: 0.7903005672638133\n",
      "Climate and Environment: 0.8548144704453947\n",
      "Transportation and Infrastructure: 0.8612233114786499\n",
      "Healthcare and Wellness: 0.8972961156674452\n",
      "Diversity and Inclusion: 0.8404496547416356\n",
      "Family-Friendly: 0.7343727477900246\n"
     ]
    }
   ],
   "source": [
    "# Define representative sentences for each category\n",
    "categories = {\n",
    "    'Job opportunities': 'This city has plenty of job opportunities.',\n",
    "    'Cost of Living': 'The quality of life in this city is great.',\n",
    "    'Safety and Security': 'This city is very safe and secure.',\n",
    "    'Climate and Environment': 'The climate and environment in this city is wonderful.',\n",
    "    'Transportation and Infrastructure': 'The transportation and infrastructure in this city is excellent.',\n",
    "    'Healthcare and Wellness': 'The healthcare and wellness options in this city are numerous.',\n",
    "    'Diversity and Inclusion': 'This city is very diverse and inclusive.',\n",
    "    'Family-Friendly': 'This city is very family-friendly.'\n",
    "}\n",
    "\n",
    "\n",
    "user_text = 'When considering a new city to move to, the most important factors for me are quality of life, including safety, healthcare, and education; career opportunities; a vibrant cultural scene; and a reasonable cost of living. I prioritize cities that offer a high standard of living, with low crime rates, accessible healthcare, excellent schools, and diverse job prospects. Additionally, I value cities that embrace diversity, provide ample recreational and cultural activities, and strike a balance between affordability and overall quality of life. By considering these aspects, I can make a well-informed decision that supports my personal and professional aspirations in a new city.'\n",
    "\n",
    "\n",
    "scores = {}\n",
    "for category, representative_sentence in categories.items():\n",
    "    scores[category] = nlp(representative_sentence).similarity(nlp(user_text))\n",
    "\n",
    "\n",
    "for category, score in scores.items():\n",
    "    print(f'{category}: {score}')\n"
   ]
  }
 ],
 "metadata": {
  "kernelspec": {
   "display_name": "Python 3.9.6 64-bit",
   "language": "python",
   "name": "python3"
  },
  "language_info": {
   "codemirror_mode": {
    "name": "ipython",
    "version": 3
   },
   "file_extension": ".py",
   "mimetype": "text/x-python",
   "name": "python",
   "nbconvert_exporter": "python",
   "pygments_lexer": "ipython3",
   "version": "3.9.6"
  },
  "orig_nbformat": 4,
  "vscode": {
   "interpreter": {
    "hash": "31f2aee4e71d21fbe5cf8b01ff0e069b9275f58929596ceb00d14d90e3e16cd6"
   }
  }
 },
 "nbformat": 4,
 "nbformat_minor": 2
}
