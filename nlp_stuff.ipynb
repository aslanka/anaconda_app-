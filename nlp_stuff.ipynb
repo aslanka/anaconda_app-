{
 "cells": [
  {
   "cell_type": "code",
   "execution_count": 2,
   "metadata": {},
   "outputs": [
    {
     "name": "stderr",
     "output_type": "stream",
     "text": [
      "2023-06-15 13:46:43.363015: I tensorflow/core/platform/cpu_feature_guard.cc:193] This TensorFlow binary is optimized with oneAPI Deep Neural Network Library (oneDNN) to use the following CPU instructions in performance-critical operations:  AVX2 FMA\n",
      "To enable them in other operations, rebuild TensorFlow with the appropriate compiler flags.\n"
     ]
    }
   ],
   "source": [
    "import spacy\n",
    "\n"
   ]
  },
  {
   "cell_type": "code",
   "execution_count": 5,
   "metadata": {},
   "outputs": [],
   "source": [
    "nlp = spacy.load('en_core_web_md')  # Make sure to have the 'en_core_web_md' model installed"
   ]
  },
  {
   "cell_type": "code",
   "execution_count": 13,
   "metadata": {},
   "outputs": [
    {
     "name": "stdout",
     "output_type": "stream",
     "text": [
      "Top 5 categories:\n",
      "Climate and Environment\n",
      "Job opportunities\n",
      "Quality of life\n",
      "Diversity and Inclusion\n",
      "Safety and Security\n"
     ]
    }
   ],
   "source": [
    "# Define representative sentences for each category\n",
    "categories = {\n",
    "    'Job opportunities': 'This city offers a thriving job market with diverse employment opportunities.',\n",
    "    'Cost of Living' :'The cost of living in this city is affordable, with reasonable housing prices and a low overall expense.',\n",
    "    'Quality of life': 'Residents enjoy a high quality of life, with access to excellent amenities and recreational facilities.',\n",
    "    'Safety and Security': 'The city prioritizes safety and security, ensuring a peaceful and secure environment for its residents.',\n",
    "    'Climate and Environment': 'Experience a pleasant climate and a pristine natural environment, perfect for outdoor activities.',\n",
    "    'Transportation and Infrastructure': 'Efficient transportation systems and well-developed infrastructure make commuting hassle-free.',\n",
    "    'Traffic' :'The city has well-managed traffic systems and minimal congestion, ensuring smooth and efficient commuting.',    \n",
    "    'Healthcare and Wellness': 'Access top-notch healthcare facilities and a wide range of wellness services to prioritize your well-being.',\n",
    "    'Diversity and Inclusion': 'Celebrate a vibrant and inclusive community that embraces diversity in all its forms.',\n",
    "    'Family-Friendly': 'Families thrive in this city, with excellent schools, parks, and family-oriented activities.'\n",
    "}\n",
    "\n",
    "\n",
    "user_text = 'I am looking for a city with a strong job market, good quality of life, and a safe environment for my family.'\n",
    "\n",
    "\n",
    "scores = {}\n",
    "for category, representative_sentence in categories.items():\n",
    "    scores[category] = nlp(representative_sentence).similarity(nlp(user_text))\n",
    "\n",
    "sorted_scores = sorted(scores.items(), key=lambda x: x[1], reverse=True)\n",
    "\n",
    "# Retrieve the top 5 categories\n",
    "top_categories = [category for category, score in sorted_scores[:5]]\n",
    "\n",
    "print(\"Top 5 categories:\")\n",
    "for category in top_categories:\n",
    "    print(category)\n"
   ]
  }
 ],
 "metadata": {
  "kernelspec": {
   "display_name": "Python 3.9.6 64-bit",
   "language": "python",
   "name": "python3"
  },
  "language_info": {
   "codemirror_mode": {
    "name": "ipython",
    "version": 3
   },
   "file_extension": ".py",
   "mimetype": "text/x-python",
   "name": "python",
   "nbconvert_exporter": "python",
   "pygments_lexer": "ipython3",
   "version": "3.9.6"
  },
  "orig_nbformat": 4,
  "vscode": {
   "interpreter": {
    "hash": "31f2aee4e71d21fbe5cf8b01ff0e069b9275f58929596ceb00d14d90e3e16cd6"
   }
  }
 },
 "nbformat": 4,
 "nbformat_minor": 2
}
